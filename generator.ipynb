{
 "cells": [
  {
   "cell_type": "code",
   "execution_count": 1,
   "id": "555d7ae3-b8a6-4651-81c8-b0dce868b51d",
   "metadata": {},
   "outputs": [],
   "source": [
    "import numpy as np\n",
    "# import os\n",
    "from scipy.stats import ortho_group"
   ]
  },
  {
   "cell_type": "code",
   "execution_count": 2,
   "id": "232ed914-df07-43e7-99c3-54253046304b",
   "metadata": {},
   "outputs": [],
   "source": [
    "sizes = [3,5,10,20,50,100]\n",
    "condnums = [1.01,1.2,2,5,10,50]\n",
    "intervals = [(0,1),(1,1000)]\n",
    "data = {}\n",
    "# save_dir = os.getcwd()  \n",
    "# save_path = os.path.join(save_dir, \"matrices.npz\")"
   ]
  },
  {
   "cell_type": "code",
   "execution_count": 33,
   "id": "665b74f7-3cea-471c-a584-a2240047c1a1",
   "metadata": {},
   "outputs": [],
   "source": [
    "def myspace(start, num_elements):\n",
    "    large_values = np.geomspace(start, start*0.01, num_elements // 2, endpoint=False)\n",
    "    small_values = np.logspace(1, -5, num_elements // 4, base=large_values[-1])\n",
    "    zero_like_values = np.linspace(0.0000001, 0.0001, num_elements - len(large_values) - len(small_values))\n",
    "    combined = np.concatenate([large_values, small_values, zero_like_values])\n",
    "    return np.sort(combined)[::-1]"
   ]
  },
  {
   "cell_type": "code",
   "execution_count": 34,
   "id": "ba87ed1d-a9d0-4c2a-a59b-d93a50f0c5f9",
   "metadata": {},
   "outputs": [
    {
     "data": {
      "text/plain": [
       "array([1.00000000e+03, 9.12010839e+02, 8.31763771e+02, 7.58577575e+02,\n",
       "       6.91830971e+02, 6.30957344e+02, 5.75439937e+02, 5.24807460e+02,\n",
       "       4.78630092e+02, 4.36515832e+02, 3.98107171e+02, 3.63078055e+02,\n",
       "       3.31131121e+02, 3.01995172e+02, 2.75422870e+02, 2.51188643e+02,\n",
       "       2.29086765e+02, 2.08929613e+02, 1.90546072e+02, 1.73780083e+02,\n",
       "       1.58489319e+02, 1.44543977e+02, 1.31825674e+02, 1.20226443e+02,\n",
       "       1.09647820e+02, 1.00000000e+02, 9.12010839e+01, 8.31763771e+01,\n",
       "       7.58577575e+01, 6.91830971e+01, 6.30957344e+01, 5.75439937e+01,\n",
       "       5.24807460e+01, 4.78630092e+01, 4.36515832e+01, 3.98107171e+01,\n",
       "       3.63078055e+01, 3.31131121e+01, 3.01995172e+01, 2.75422870e+01,\n",
       "       2.51188643e+01, 2.29086765e+01, 2.08929613e+01, 1.90546072e+01,\n",
       "       1.73780083e+01, 1.58489319e+01, 1.44543977e+01, 1.31825674e+01,\n",
       "       1.20226443e+01, 1.09647820e+01, 1.09647820e+01, 6.02559586e+00,\n",
       "       3.31131121e+00, 1.81970086e+00, 1.00000000e+00, 5.49540874e-01,\n",
       "       3.01995172e-01, 1.65958691e-01, 9.12010839e-02, 5.01187234e-02,\n",
       "       2.75422870e-02, 1.51356125e-02, 8.31763771e-03, 4.57088190e-03,\n",
       "       2.51188643e-03, 1.38038426e-03, 7.58577575e-04, 4.16869383e-04,\n",
       "       2.29086765e-04, 1.25892541e-04, 1.00000000e-04, 9.58375000e-05,\n",
       "       9.16750000e-05, 8.75125000e-05, 8.33500000e-05, 7.91875000e-05,\n",
       "       7.50250000e-05, 7.08625000e-05, 6.91830971e-05, 6.67000000e-05,\n",
       "       6.25375000e-05, 5.83750000e-05, 5.42125000e-05, 5.00500000e-05,\n",
       "       4.58875000e-05, 4.17250000e-05, 3.80189396e-05, 3.75625000e-05,\n",
       "       3.34000000e-05, 2.92375000e-05, 2.50750000e-05, 2.09125000e-05,\n",
       "       2.08929613e-05, 1.67500000e-05, 1.25875000e-05, 1.14815362e-05,\n",
       "       8.42500000e-06, 6.30957344e-06, 4.26250000e-06, 1.00000000e-07])"
      ]
     },
     "execution_count": 34,
     "metadata": {},
     "output_type": "execute_result"
    }
   ],
   "source": [
    "myspace(1000, 100)"
   ]
  },
  {
   "cell_type": "code",
   "execution_count": 35,
   "id": "477fb9c3-133e-43da-8ae5-e980f18452f5",
   "metadata": {},
   "outputs": [],
   "source": [
    "for size in sizes:\n",
    "    for condnum in condnums:\n",
    "        for interval in intervals:\n",
    "            U, Vt = ortho_group.rvs(size), ortho_group.rvs(size).T\n",
    "            s_max = interval[1]\n",
    "            s_min = s_max/condnum\n",
    "            S = np.diag(np.geomspace(s_max,s_min,num = size))\n",
    "            # print(np.linalg.norm(U@U.T - np.eye(size),2),np.linalg.norm(Vt.T@Vt - np.eye(size),2))\n",
    "            key = f\"size_{size}_cond_{condnum}_interval_{interval[0]}_{interval[1]}\"\n",
    "            data[key] = U,S,Vt\n",
    "\n",
    "# np.savez(\"matrices.npz\", **data)\n",
    "np.savez(\"matrices.npz\", **data)"
   ]
  },
  {
   "cell_type": "code",
   "execution_count": 36,
   "id": "225625a4-0a61-441e-82ca-790b84d7eb26",
   "metadata": {},
   "outputs": [],
   "source": [
    "for size in sizes:\n",
    "    for interval in intervals:\n",
    "            U, Vt = ortho_group.rvs(size), ortho_group.rvs(size).T\n",
    "            s_max = interval[1]\n",
    "            s_min = s_max/condnum\n",
    "            S = np.diag(np.geomspace(s_max,s_min,num = size))\n",
    "            # print(np.linalg.norm(U@U.T - np.eye(size),2),np.linalg.norm(Vt.T@Vt - np.eye(size),2))\n",
    "            key = f\"size_{size}_interval_{interval[0]}_{interval[1]}\"\n",
    "            data[key] = U,S,Vt\n",
    "\n",
    "# np.savez(\"matrices.npz\", **data)\n",
    "np.savez(\"matrices2.npz\", **data)"
   ]
  },
  {
   "cell_type": "code",
   "execution_count": null,
   "id": "41135bcc-6839-4b21-b9c5-ee3b094a5aef",
   "metadata": {},
   "outputs": [],
   "source": []
  }
 ],
 "metadata": {
  "kernelspec": {
   "display_name": "Python 3 (ipykernel)",
   "language": "python",
   "name": "python3"
  },
  "language_info": {
   "codemirror_mode": {
    "name": "ipython",
    "version": 3
   },
   "file_extension": ".py",
   "mimetype": "text/x-python",
   "name": "python",
   "nbconvert_exporter": "python",
   "pygments_lexer": "ipython3",
   "version": "3.13.2"
  }
 },
 "nbformat": 4,
 "nbformat_minor": 5
}
